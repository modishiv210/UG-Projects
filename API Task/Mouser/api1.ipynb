{
 "cells": [
  {
   "cell_type": "code",
   "execution_count": 1,
   "metadata": {},
   "outputs": [],
   "source": [
    "import requests\n",
    "import xml.etree.ElementTree as ET"
   ]
  },
  {
   "cell_type": "code",
   "execution_count": 6,
   "metadata": {},
   "outputs": [],
   "source": [
    "def mouserSearch(partNumber):\n",
    "    print('Searching for '+partNumber+'...\\n')\n",
    "\n",
    "    url = 'http://api.mouser.com/service/searchapi.asmx?wsdl'\n",
    "\n",
    "    data1 = '<?xml version=\"1.0\" encoding=\"utf-8\"?>\\\n",
    "    <soap:Envelope xmlns:xsi=\"http://www.w3.org/2001/XMLSchema-instance\" xmlns:xsd=\"http://www.w3.org/2001/XMLSchema\" xmlns:soap=\"http://schemas.xmlsoap.org/soap/envelope/\">\\\n",
    "    <soap:Header>\\\n",
    "    <MouserHeader xmlns=\"http://api.mouser.com/service\">\\\n",
    "    <AccountInfo>\\\n",
    "    <PartnerID>82675baf-9a58-4d5a-af3f-e3bbcf486560</PartnerID>\\\n",
    "    </AccountInfo>\\\n",
    "    </MouserHeader>\\\n",
    "    </soap:Header>\\\n",
    "    <soap:Body>\\\n",
    "    <SearchByPartNumber xmlns=\"http://api.mouser.com/service\">\\\n",
    "    <mouserPartNumber>'\n",
    "\n",
    "    data2 = '</mouserPartNumber>\\\n",
    "    <partSearchOptions>BeginsWith</partSearchOptions>\\\n",
    "    </SearchByPartNumber>\\\n",
    "    </soap:Body>\\\n",
    "    </soap:Envelope>'\n",
    "\n",
    "    data = data1 + partNumber + data2\n",
    "\n",
    "    r = requests.post(url,data=data,headers={'Content-type':'text/xml'})\n",
    "    print('HTTP Response: \\t',r.status_code,r.reason,'\\n')\n",
    "    if(r.status_code == 200):\n",
    "        tree = ET.ElementTree(ET.fromstring(r.text))\n",
    "        root = tree.getroot()\n",
    "\n",
    "        parts = root.findall('{http://schemas.xmlsoap.org/soap/envelope/}Body/{http://api.mouser.com/service}SearchByPartNumberResponse/{http://api.mouser.com/service}SearchByPartNumberResult/{http://api.mouser.com/service}Parts/{http://api.mouser.com/service}MouserPart')\n",
    "\n",
    "        print('--------------------------')\n",
    "        for part in parts:\n",
    "            if 'N/A' not in part.find('{http://api.mouser.com/service}MouserPartNumber').text and part.find('{http://api.mouser.com/service}Availability') is not None:\n",
    "                print('\\n')\n",
    "                print('Mouser part #:\\t',part.find('{http://api.mouser.com/service}MouserPartNumber').text)\n",
    "                print('Availability: \\t',part.find('{http://api.mouser.com/service}Availability').text)\n",
    "                print('LeadTime: \\t',part.find('{http://api.mouser.com/service}LeadTime').text)\n",
    "                print('OnOrder: \\t',part.find('{http://api.mouser.com/service}FactoryStock').text)\n",
    "                print('Price @',part.find('{http://api.mouser.com/service}PriceBreaks/{http://api.mouser.com/service}Pricebreaks/{http://api.mouser.com/service}Quantity').text,': \\t',part.find('{http://api.mouser.com/service}PriceBreaks/{http://api.mouser.com/service}Pricebreaks/{http://api.mouser.com/service}Price').text)\n",
    "                print('Description: \\t',part.find('{http://api.mouser.com/service}Description').text)\n",
    "            else:\n",
    "                print('\\n')\n",
    "                #print('Mouser part #:\\t',part.find('{http://api.mouser.com/service}MouserPartNumber').text)\n",
    "                print('Found N/A part')\n",
    "        print('--------------------------')\n",
    "    else:\n",
    "        raise Exception('Mouser API returned: {}'.format(r.status_code)+' - {}'.format(r.reason))"
   ]
  },
  {
   "cell_type": "code",
   "execution_count": 7,
   "metadata": {},
   "outputs": [
    {
     "name": "stdout",
     "output_type": "stream",
     "text": [
      "Searching for CC0603KRX7R8BB105...\n",
      "\n",
      "HTTP Response: \t 200 OK \n",
      "\n",
      "--------------------------\n",
      "\n",
      "\n",
      "Mouser part #:\t 603-CC603KRX7R8BB105\n",
      "Availability: \t 26777 In Stock\n",
      "LeadTime: \t 126 Days\n",
      "OnOrder: \t 0\n",
      "Price @ 1 : \t ₹19.92\n",
      "Description: \t Multilayer Ceramic Capacitors MLCC - SMD/SMT 25V 1uF X7R 0603 10%\n",
      "--------------------------\n"
     ]
    }
   ],
   "source": [
    "mouserSearch(\"CC0603KRX7R8BB105\")"
   ]
  },
  {
   "cell_type": "code",
   "execution_count": null,
   "metadata": {},
   "outputs": [],
   "source": []
  }
 ],
 "metadata": {
  "kernelspec": {
   "display_name": "tf-keras",
   "language": "python",
   "name": "python3"
  },
  "language_info": {
   "codemirror_mode": {
    "name": "ipython",
    "version": 3
   },
   "file_extension": ".py",
   "mimetype": "text/x-python",
   "name": "python",
   "nbconvert_exporter": "python",
   "pygments_lexer": "ipython3",
   "version": "3.10.12"
  }
 },
 "nbformat": 4,
 "nbformat_minor": 2
}
