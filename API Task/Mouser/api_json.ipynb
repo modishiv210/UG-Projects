{
 "cells": [
  {
   "cell_type": "code",
   "execution_count": 1,
   "metadata": {},
   "outputs": [],
   "source": [
    "import requests"
   ]
  },
  {
   "cell_type": "code",
   "execution_count": 3,
   "metadata": {},
   "outputs": [],
   "source": [
    "def mouserSearch(partNumber):\n",
    "    print('Searching for ' + partNumber + '...\\n')\n",
    "\n",
    "    url = 'http://api.mouser.com/service/searchapi.asmx/SearchByPartNumber?apikey=82675baf-9a58-4d5a-af3f-e3bbcf486560&partNumber=' + partNumber\n",
    "\n",
    "    r = requests.get(url)\n",
    "    print('HTTP Response: \\t', r.status_code, r.reason, '\\n')\n",
    "    if r.status_code == 200:\n",
    "        response_json = r.json()\n",
    "\n",
    "        # Extract necessary data from JSON response\n",
    "        parts = response_json['SearchByPartNumberResponse']['SearchByPartNumberResult']['Parts']['MouserPart']\n",
    "\n",
    "        print('--------------------------')\n",
    "        for part in parts:\n",
    "            if part['MouserPartNumber'] != 'N/A' and 'Availability' in part:\n",
    "                print('\\n')\n",
    "                print('Mouser part #:\\t', part['MouserPartNumber'])\n",
    "                print('Availability: \\t', part['Availability'])\n",
    "                print('LeadTime: \\t', part['LeadTime'])\n",
    "                print('OnOrder: \\t', part['FactoryStock'])\n",
    "                # You may need to adjust the index based on the JSON structure\n",
    "                print('Price @', part['PriceBreaks']['Pricebreaks'][0]['Quantity'], ': \\t', part['PriceBreaks']['Pricebreaks'][0]['Price'])\n",
    "                print('Description: \\t', part['Description'])\n",
    "            else:\n",
    "                print('\\n')\n",
    "                #print('Mouser part #:\\t', part['MouserPartNumber'])\n",
    "                print('Found N/A part')\n",
    "        print('--------------------------')\n",
    "    else:\n",
    "        raise Exception('Mouser API returned: {}'.format(r.status_code) + ' - {}'.format(r.reason))"
   ]
  },
  {
   "cell_type": "code",
   "execution_count": 4,
   "metadata": {},
   "outputs": [
    {
     "name": "stdout",
     "output_type": "stream",
     "text": [
      "Searching for CC0603KRX7R8BB105...\n",
      "\n"
     ]
    }
   ],
   "source": [
    "mouserSearch(\"CC0603KRX7R8BB105\")"
   ]
  },
  {
   "cell_type": "code",
   "execution_count": null,
   "metadata": {},
   "outputs": [],
   "source": []
  }
 ],
 "metadata": {
  "kernelspec": {
   "display_name": "tf-keras",
   "language": "python",
   "name": "python3"
  },
  "language_info": {
   "codemirror_mode": {
    "name": "ipython",
    "version": 3
   },
   "file_extension": ".py",
   "mimetype": "text/x-python",
   "name": "python",
   "nbconvert_exporter": "python",
   "pygments_lexer": "ipython3",
   "version": "3.10.12"
  }
 },
 "nbformat": 4,
 "nbformat_minor": 2
}
