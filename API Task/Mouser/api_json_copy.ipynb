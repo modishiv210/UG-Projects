{
 "cells": [
  {
   "cell_type": "code",
   "execution_count": 1,
   "metadata": {},
   "outputs": [],
   "source": [
    "import json\n",
    "import requests"
   ]
  },
  {
   "cell_type": "code",
   "execution_count": 2,
   "metadata": {},
   "outputs": [],
   "source": [
    "# Mouser Base URL\n",
    "BASE_URL = 'https://api.mouser.com/api/v1.0'\n",
    "\n",
    "def get_api_key():\n",
    "    \"\"\"Retrieve the Mouser API key.\"\"\"\n",
    "    return '82675baf-9a58-4d5a-af3f-e3bbcf486560'\n",
    "\n",
    "\n",
    "def get_part_price(part_number, quantity=1):\n",
    "    \"\"\"Retrieve the price of a part for a given quantity.\"\"\"\n",
    "    api_key = get_api_key()\n",
    "    if not api_key:\n",
    "        raise FileNotFoundError('API Key is missing')\n",
    "\n",
    "    url = f'{BASE_URL}/search/partnumber?apiKey={api_key}'\n",
    "    body = {\n",
    "        'SearchByPartRequest': {\n",
    "            'mouserPartNumber': part_number,\n",
    "            'partSearchOptions': f'None&qty={quantity}',\n",
    "        }\n",
    "    }\n",
    "    headers = {'Content-Type': 'application/json'}\n",
    "\n",
    "    response = requests.post(url=url, data=json.dumps(body), headers=headers)\n",
    "    if response.status_code == 200:\n",
    "        data = response.json()\n",
    "        print(data)\n",
    "        if 'SearchResults' in data:\n",
    "            parts = data['SearchResults'].get('Parts', [])\n",
    "            if parts:\n",
    "                part_data = parts[0]\n",
    "                price_breaks = part_data.get('PriceBreaks', [])\n",
    "                if price_breaks:\n",
    "                    for price_break in price_breaks:\n",
    "                        if price_break['Quantity'] == quantity:\n",
    "                            return price_break['Price']\n",
    "    return None"
   ]
  },
  {
   "cell_type": "code",
   "execution_count": 3,
   "metadata": {},
   "outputs": [
    {
     "name": "stdout",
     "output_type": "stream",
     "text": [
      "{'Errors': [], 'SearchResults': {'NumberOfResult': 1, 'Parts': [{'Availability': '26777 In Stock', 'DataSheetUrl': 'https://www.mouser.com/datasheet/2/447/UPY_GPHC_X7R_6_3V_to_250V_23-3084653.pdf', 'Description': 'Multilayer Ceramic Capacitors MLCC - SMD/SMT 25V 1uF X7R 0603 10%', 'FactoryStock': '0', 'ImagePath': 'https://www.mouser.com/images/yageo/images/CC_capacitor_SPL.jpg', 'Category': 'Multilayer Ceramic Capacitors MLCC - SMD/SMT', 'LeadTime': '126 Days', 'LifecycleStatus': None, 'Manufacturer': 'YAGEO', 'ManufacturerPartNumber': 'CC0603KRX7R8BB105', 'Min': '1', 'Mult': '1', 'MouserPartNumber': '603-CC603KRX7R8BB105', 'ProductAttributes': [{'AttributeName': 'Packaging', 'AttributeValue': 'Reel'}, {'AttributeName': 'Packaging', 'AttributeValue': 'Cut Tape'}, {'AttributeName': 'Packaging', 'AttributeValue': 'MouseReel', 'AttributeCost': 'A MouseReel™ fee of ₹475.00 will be added and calculated in your basket. All MouseReel™ orders are non-cancellable and non-returnable.'}, {'AttributeName': 'Standard Pack Qty', 'AttributeValue': '4000'}], 'PriceBreaks': [{'Quantity': 1, 'Price': '₹19.92', 'Currency': 'INR'}, {'Quantity': 10, 'Price': '₹9.05', 'Currency': 'INR'}, {'Quantity': 100, 'Price': '₹5.40', 'Currency': 'INR'}, {'Quantity': 1000, 'Price': '₹4.73', 'Currency': 'INR'}, {'Quantity': 4000, 'Price': '₹3.74', 'Currency': 'INR'}, {'Quantity': 8000, 'Price': '₹3.32', 'Currency': 'INR'}, {'Quantity': 24000, 'Price': '₹3.15', 'Currency': 'INR'}, {'Quantity': 100000, 'Price': '₹2.82', 'Currency': 'INR'}], 'AlternatePackagings': None, 'ProductDetailUrl': 'https://www.mouser.in/ProductDetail/YAGEO/CC0603KRX7R8BB105?qs=57cj7OiSijm1JqG%252BGXtOuQ%3D%3D', 'Reeling': True, 'ROHSStatus': 'RoHS Compliant', 'SuggestedReplacement': '', 'MultiSimBlue': 0, 'AvailabilityInStock': '26777', 'AvailabilityOnOrder': [{'Quantity': 56000, 'Date': '2024-04-23T00:00:00'}], 'InfoMessages': [], 'ProductCompliance': [{'ComplianceName': 'CNHTS', 'ComplianceValue': '8532241000'}, {'ComplianceName': 'TARIC', 'ComplianceValue': '8532240000'}, {'ComplianceName': 'CAHTS', 'ComplianceValue': '8532240010'}, {'ComplianceName': 'USHTS', 'ComplianceValue': '8532240020'}, {'ComplianceName': 'JPHTS', 'ComplianceValue': '853224000'}, {'ComplianceName': 'KRHTS', 'ComplianceValue': '8532240000'}, {'ComplianceName': 'BRHTS', 'ComplianceValue': '85322410'}, {'ComplianceName': 'ECCN', 'ComplianceValue': 'EAR99'}]}]}}\n",
      "The price for 10 units of part number CC0603KRX7R8BB105 is $₹9.05.\n"
     ]
    }
   ],
   "source": [
    "# Example usage\n",
    "part_number = \"CC0603KRX7R8BB105\"\n",
    "quantity = 10\n",
    "price = get_part_price(part_number, quantity)\n",
    "if price is not None:\n",
    "    print(f\"The price for {quantity} units of part number {part_number} is ${price}.\")\n",
    "else:\n",
    "    print(f\"Price information for part number {part_number} is not available.\")"
   ]
  },
  {
   "cell_type": "code",
   "execution_count": null,
   "metadata": {},
   "outputs": [],
   "source": []
  }
 ],
 "metadata": {
  "kernelspec": {
   "display_name": "tf-keras",
   "language": "python",
   "name": "python3"
  },
  "language_info": {
   "codemirror_mode": {
    "name": "ipython",
    "version": 3
   },
   "file_extension": ".py",
   "mimetype": "text/x-python",
   "name": "python",
   "nbconvert_exporter": "python",
   "pygments_lexer": "ipython3",
   "version": "3.10.12"
  }
 },
 "nbformat": 4,
 "nbformat_minor": 2
}
