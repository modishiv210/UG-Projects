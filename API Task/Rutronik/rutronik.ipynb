{
 "cells": [
  {
   "cell_type": "code",
   "execution_count": 2,
   "metadata": {},
   "outputs": [],
   "source": [
    "import requests"
   ]
  },
  {
   "cell_type": "code",
   "execution_count": 5,
   "metadata": {},
   "outputs": [],
   "source": [
    "def rutronikSearch(part_number):\n",
    "    \n",
    "    url = f\"https://www.rutronik24.com/api/pricerequest/?apikey=cc6qyfg2yfis&sku={part_number}\"\n",
    "    response = requests.get(url)\n",
    "    if response.status_code == 200:\n",
    "        data = response.json()\n",
    "        print(data)\n",
    "    else:\n",
    "        return \"NA\""
   ]
  },
  {
   "cell_type": "code",
   "execution_count": 6,
   "metadata": {},
   "outputs": [
    {
     "name": "stdout",
     "output_type": "stream",
     "text": [
      "{'sku': 'ICMCU22246', 'manufacturer': 'INFINEON', 'mpn': 'SP001093080', 'matchcode': 'XMC4500-F100K1024 AC', 'description': 'XMC4000 1024K LQFP-100 125°C', 'package': 'LQFP-100', 'packaging': 'TRAY', 'url': 'https://www.rutronik24.com/product/infineon/xmc4500-f100k1024+ac/4844292.html', 'pu': 1, 'moq': 90, 'stock': 0, 'leadtime': 41, 'currency': 'EUR', 'price': '13.48', 'pricebreaks': [{'quantity': 90, 'price': '13.48'}, {'quantity': 180, 'price': '12.36'}, {'quantity': 270, 'price': '10.71'}]}\n",
      "{'sku': 'ICMCU22250', 'manufacturer': 'INFINEON', 'mpn': 'SP001093082', 'matchcode': 'XMC4500-F144K1024 AC', 'description': 'XMC4000 1024K LQFP-144 125°C', 'package': 'LQFP-144', 'packaging': 'TRAY', 'url': 'https://www.rutronik24.com/product/infineon/xmc4500-f144k1024+ac/4844296.html', 'pu': 360, 'moq': 360, 'stock': 0, 'leadtime': 41, 'currency': 'EUR', 'price': '8.00', 'pricebreaks': [{'quantity': 360, 'price': '8.00'}]}\n",
      "{'sku': 'KKK19097', 'manufacturer': 'YAGEO', 'mpn': 'CC0603KPX7R9BB104', 'matchcode': 'KC100N0603X7R050K NORM', 'description': 'KC 100nF 0603 10% 50V X7R', 'package': '0603', 'packaging': 'REEL PAP', 'url': 'https://www.rutronik24.com/product/yageo/cc0603kpx7r9bb104/30938.html', 'pu': 15000, 'moq': 15000, 'stock': 158525000, 'leadtime': 21, 'currency': 'EUR', 'price': '0.00197', 'pricebreaks': [{'quantity': 15000, 'price': '0.001969'}, {'quantity': 30000, 'price': '0.001951'}, {'quantity': 60000, 'price': '0.001951'}, {'quantity': 75000, 'price': '0.001933'}, {'quantity': 150000, 'price': '0.001933'}]}\n"
     ]
    }
   ],
   "source": [
    "rutronikSearch(\"ICMCU22246\")\n",
    "rutronikSearch(\"ICMCU22250\")\n",
    "rutronikSearch(\"KKK19097\")"
   ]
  },
  {
   "cell_type": "code",
   "execution_count": null,
   "metadata": {},
   "outputs": [],
   "source": []
  }
 ],
 "metadata": {
  "kernelspec": {
   "display_name": "tf-keras",
   "language": "python",
   "name": "python3"
  },
  "language_info": {
   "codemirror_mode": {
    "name": "ipython",
    "version": 3
   },
   "file_extension": ".py",
   "mimetype": "text/x-python",
   "name": "python",
   "nbconvert_exporter": "python",
   "pygments_lexer": "ipython3",
   "version": "3.10.12"
  }
 },
 "nbformat": 4,
 "nbformat_minor": 2
}
