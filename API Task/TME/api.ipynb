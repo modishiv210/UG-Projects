{
 "cells": [
  {
   "cell_type": "code",
   "execution_count": 16,
   "metadata": {},
   "outputs": [],
   "source": [
    "import collections\n",
    "import urllib.parse\n",
    "import base64\n",
    "import hmac\n",
    "import hashlib\n",
    "import urllib.request\n",
    "import json"
   ]
  },
  {
   "cell_type": "code",
   "execution_count": 21,
   "metadata": {},
   "outputs": [],
   "source": [
    "def api_call(action, params, token, app_secret, show_header=False):\n",
    "    api_url = 'https://api.tme.eu/' + action + '.json'\n",
    "    params['Token'] = token\n",
    "\n",
    "    params = collections.OrderedDict(sorted(params.items()))\n",
    "\n",
    "    encoded_params = urllib.parse.urlencode(params, '').encode()\n",
    "    signature_base = 'POST' + '&' + urllib.parse.quote(api_url, '') + '&' + urllib.parse.quote(encoded_params, '')\n",
    "\n",
    "    api_signature = base64.b64encode(hmac.new(app_secret, signature_base.encode(), hashlib.sha1).digest()).rstrip()\n",
    "    params['ApiSignature'] = api_signature\n",
    "\n",
    "    http_header = {\n",
    "        \"Content-type\": \"application/x-www-form-urlencoded\",\n",
    "    }\n",
    "\n",
    "    # create your HTTP request\n",
    "    req = urllib.request.Request(api_url, urllib.parse.urlencode(params).encode(), http_header)\n",
    "\n",
    "    # submit your request\n",
    "    with urllib.request.urlopen(req) as res:\n",
    "        html = res.read().decode()\n",
    "\n",
    "    return html\n",
    "\n",
    "def product_import_tme():\n",
    "    # /product/product_import_tme/\n",
    "\n",
    "    token = 'c850b76479a46e253c40383eb8907071dc3136d3de975d0fe7'\n",
    "    app_secret = b'fd5a595a6eda52c936f3'\n",
    "\n",
    "    params = {\n",
    "        'SymbolList[0]' : 'NE555D',\n",
    "        'SymbolList[1]' : '1N4007-DC',\n",
    "        'Country': 'PL',\n",
    "        'Currency': 'PLN',\n",
    "        'Language': 'PL',\n",
    "    }\n",
    "\n",
    "    response = api_call('Products/GetPrices', params, token, app_secret, True)\n",
    "    response = json.loads(response)\n",
    "    print(response)"
   ]
  },
  {
   "cell_type": "code",
   "execution_count": 22,
   "metadata": {},
   "outputs": [
    {
     "name": "stdout",
     "output_type": "stream",
     "text": [
      "{'Status': 'OK', 'Data': {'Currency': 'USD', 'Language': 'PL', 'PriceType': 'NET', 'ProductList': [{'Symbol': 'NE555D', 'PriceList': [{'Amount': 3, 'PriceValue': 0.891, 'PriceBase': 0, 'Special': False}, {'Amount': 25, 'PriceValue': 0.726, 'PriceBase': 0, 'Special': False}, {'Amount': 75, 'PriceValue': 0.624, 'PriceBase': 0, 'Special': False}, {'Amount': 300, 'PriceValue': 0.551, 'PriceBase': 0, 'Special': False}, {'Amount': 900, 'PriceValue': 0.498, 'PriceBase': 0, 'Special': False}], 'Unit': 'szt', 'VatRate': 0, 'VatType': 'VAT'}, {'Symbol': '1N4007-DC', 'PriceList': [{'Amount': 1, 'PriceValue': 0.125, 'PriceBase': 0, 'Special': False}, {'Amount': 5, 'PriceValue': 0.095, 'PriceBase': 0, 'Special': False}, {'Amount': 25, 'PriceValue': 0.065, 'PriceBase': 0, 'Special': False}, {'Amount': 100, 'PriceValue': 0.04, 'PriceBase': 0, 'Special': False}, {'Amount': 500, 'PriceValue': 0.025, 'PriceBase': 0, 'Special': False}, {'Amount': 2500, 'PriceValue': 0.015, 'PriceBase': 0, 'Special': False}, {'Amount': 10000, 'PriceValue': 0.011, 'PriceBase': 0, 'Special': False}, {'Amount': 45000, 'PriceValue': 0.0096, 'PriceBase': 0, 'Special': False}, {'Amount': 100000, 'PriceValue': 0.0091, 'PriceBase': 0, 'Special': False}, {'Amount': 225000, 'PriceValue': 0.0085, 'PriceBase': 0, 'Special': False}], 'Unit': 'szt', 'VatRate': 0, 'VatType': 'VAT'}]}}\n"
     ]
    }
   ],
   "source": [
    "product_import_tme()"
   ]
  },
  {
   "cell_type": "code",
   "execution_count": null,
   "metadata": {},
   "outputs": [],
   "source": []
  }
 ],
 "metadata": {
  "kernelspec": {
   "display_name": "tf-keras",
   "language": "python",
   "name": "python3"
  },
  "language_info": {
   "codemirror_mode": {
    "name": "ipython",
    "version": 3
   },
   "file_extension": ".py",
   "mimetype": "text/x-python",
   "name": "python",
   "nbconvert_exporter": "python",
   "pygments_lexer": "ipython3",
   "version": "3.10.12"
  }
 },
 "nbformat": 4,
 "nbformat_minor": 2
}
