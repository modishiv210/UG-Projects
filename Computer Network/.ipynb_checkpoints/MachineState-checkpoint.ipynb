{
 "cells": [
  {
   "cell_type": "code",
   "execution_count": null,
   "id": "c3cb3c67",
   "metadata": {},
   "outputs": [],
   "source": [
    "import pandas as pd\n",
    "from tsfresh import select_features\n",
    "\n",
    "# Read the time-series data\n",
    "df = pd.read_excel(\"train.xlsx\")#, parse_dates=['date']).set_index('date')\n",
    "\n",
    "# automated feature generation\n",
    "features = tsfresh.extract_features(df, column_id=\"date\", column_sort=\"date\")"
   ]
  }
 ],
 "metadata": {
  "kernelspec": {
   "display_name": "Python 3 (ipykernel)",
   "language": "python",
   "name": "python3"
  },
  "language_info": {
   "codemirror_mode": {
    "name": "ipython",
    "version": 3
   },
   "file_extension": ".py",
   "mimetype": "text/x-python",
   "name": "python",
   "nbconvert_exporter": "python",
   "pygments_lexer": "ipython3",
   "version": "3.9.7"
  }
 },
 "nbformat": 4,
 "nbformat_minor": 5
}
