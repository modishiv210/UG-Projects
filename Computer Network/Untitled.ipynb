{
 "cells": [
  {
   "cell_type": "code",
   "execution_count": 5,
   "id": "c97c8146",
   "metadata": {},
   "outputs": [
    {
     "data": {
      "text/plain": [
       "<Figure size 432x288 with 0 Axes>"
      ]
     },
     "metadata": {},
     "output_type": "display_data"
    }
   ],
   "source": [
    "from opcua import Client\n",
    "import matplotlib.pyplot as plt\n",
    "from matplotlib.animation import FuncAnimation\n",
    "\n",
    "url = \"opc.tcp://10.185.151.135:504\"\n",
    "client = Client(url)\n",
    "client.connect()\n",
    "\n",
    "t = []\n",
    "x_vib = []\n",
    "y_vib = []\n",
    "z_vib = []\n",
    "\n",
    "def animate(i):\n",
    "\n",
    "    Time = client.get_node(\"ns=2;i=5\")\n",
    "    Time_val = Time.get_value()\n",
    "    \n",
    "    Xvib = client.get_node(\"ns=2;i=2\")\n",
    "    Xvib_val = Xvib.get_value()\n",
    "    \n",
    "    Yvib = client.get_node(\"ns=2;i=3\")\n",
    "    Yvib_val = Yvib.get_value()\n",
    "    \n",
    "    Zvib = client.get_node(\"ns=2;i=4\")\n",
    "    Zvib_val = Zvib.get_value()\n",
    "\n",
    "    t.append(Time_val)\n",
    "    x_vib.append(Xvib_val[0])\n",
    "    y_vib.append(Yvib_val[0])\n",
    "    z_vib.append(Zvib_val[0])\n",
    "\n",
    "    plt.cla()\n",
    "\n",
    "    plt.plot(t, x_vib, label='X-axis Vibration')\n",
    "    plt.plot(t, y_vib, label='Y-axis Vibration')\n",
    "    plt.plot(t, z_vib, label='Z-axis Vibration')\n",
    "\n",
    "    plt.xlabel(\"Time\")\n",
    "    plt.ylabel(\"Vibration\")\n",
    "    \n",
    "    plt.legend(loc='upper left')\n",
    "\n",
    "    plt.tight_layout()\n",
    "    \n",
    "    print(t, x_vib, y_vib, z_vib)\n",
    "\n",
    "ani = FuncAnimation(plt.gcf(), animate, interval=100)\n",
    "\n",
    "plt.tight_layout()\n",
    "plt.show()"
   ]
  },
  {
   "cell_type": "code",
   "execution_count": null,
   "id": "0d622437",
   "metadata": {},
   "outputs": [],
   "source": []
  },
  {
   "cell_type": "code",
   "execution_count": null,
   "id": "e6810c83",
   "metadata": {},
   "outputs": [],
   "source": []
  }
 ],
 "metadata": {
  "kernelspec": {
   "display_name": "Python 3 (ipykernel)",
   "language": "python",
   "name": "python3"
  },
  "language_info": {
   "codemirror_mode": {
    "name": "ipython",
    "version": 3
   },
   "file_extension": ".py",
   "mimetype": "text/x-python",
   "name": "python",
   "nbconvert_exporter": "python",
   "pygments_lexer": "ipython3",
   "version": "3.9.7"
  }
 },
 "nbformat": 4,
 "nbformat_minor": 5
}
