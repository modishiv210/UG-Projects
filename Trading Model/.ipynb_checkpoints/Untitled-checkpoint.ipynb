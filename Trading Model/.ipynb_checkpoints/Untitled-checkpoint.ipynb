{
 "cells": [
  {
   "cell_type": "code",
   "execution_count": 4,
   "id": "a852b11e",
   "metadata": {},
   "outputs": [],
   "source": [
    "class Trade:\n",
    "    def __init__(self, time, symbol, side, price, quantity):\n",
    "        self.time = time\n",
    "        self.symbol = symbol\n",
    "        self.side = side\n",
    "        self.price = price\n",
    "        self.quantity = quantity\n",
    "        self.is_opening = False\n",
    "        self.is_closing = False\n",
    "\n",
    "def process_trades(trades):\n",
    "    inventory = {}  # To keep track of open inventory for each symbol\n",
    "    opening_trades = []  # To store opening trades in FIFO order\n",
    "\n",
    "    for trade_data in trades:\n",
    "        trade = Trade(*trade_data)\n",
    "\n",
    "        if trade.side == 'B':\n",
    "            # Opening trade\n",
    "            trade.is_opening = True\n",
    "            opening_trades.append(trade)\n",
    "            inventory[trade.symbol] = inventory.get(trade.symbol, 0) + trade.quantity\n",
    "        elif trade.side == 'S':\n",
    "            # Closing trade\n",
    "            remaining_quantity = trade.quantity\n",
    "            while remaining_quantity > 0 and opening_trades:\n",
    "                opening_trade = opening_trades[0]\n",
    "\n",
    "                # Calculate paired quantity\n",
    "                paired_quantity = min(remaining_quantity, opening_trade.quantity)\n",
    "\n",
    "                # Update opening trade's quantity\n",
    "                opening_trade.quantity -= paired_quantity\n",
    "\n",
    "                # Update open inventory\n",
    "                inventory[trade.symbol] -= paired_quantity\n",
    "\n",
    "                # Check if the opening trade is fully consumed\n",
    "                if opening_trade.quantity == 0:\n",
    "                    opening_trades.pop(0)\n",
    "\n",
    "                # Check if the closing trade is fully consumed\n",
    "                if paired_quantity == remaining_quantity:\n",
    "                    break\n",
    "\n",
    "                # Update remaining quantity for the closing trade\n",
    "                remaining_quantity -= paired_quantity\n",
    "\n",
    "            # If there is still remaining quantity, create a new opening trade\n",
    "            if remaining_quantity > 0:\n",
    "                new_opening_trade = Trade(trade.time, trade.symbol, 'B', trade.price, remaining_quantity)\n",
    "                new_opening_trade.is_opening = True\n",
    "                opening_trades.append(new_opening_trade)\n",
    "                inventory[trade.symbol] = inventory.get(trade.symbol, 0) + remaining_quantity\n",
    "\n",
    "    # Print results\n",
    "    print(\"Symbol\\tRemaining Inventory\")\n",
    "    for symbol, remaining_quantity in inventory.items():\n",
    "        print(f\"{symbol}\\t{remaining_quantity}\")"
   ]
  },
  {
   "cell_type": "code",
   "execution_count": 5,
   "id": "8f81650f",
   "metadata": {},
   "outputs": [],
   "source": [
    "# Example usage with the provided trades\n",
    "trades_data = [\n",
    "    (2, 'ABC', 'B', 10.06, 500),\n",
    "    (4, 'DEF', 'S', 35.99, 200),\n",
    "    (4, 'ABC', 'S', 10.07, 200),\n",
    "    (5, 'ABC', 'S', 10.07, 300),\n",
    "]\n",
    "\n",
    "# process_trades(trades_data)"
   ]
  },
  {
   "cell_type": "code",
   "execution_count": 17,
   "id": "9f3f5f9b",
   "metadata": {},
   "outputs": [
    {
     "name": "stdout",
     "output_type": "stream",
     "text": [
      "Symbol\tRemaining Inventory\n",
      "KJF\t200\n",
      "LDI\t300\n"
     ]
    }
   ],
   "source": [
    "process_trades(trading_data[:2])"
   ]
  },
  {
   "cell_type": "code",
   "execution_count": 1,
   "id": "d73351aa",
   "metadata": {},
   "outputs": [],
   "source": [
    "import csv"
   ]
  },
  {
   "cell_type": "code",
   "execution_count": 9,
   "id": "ca94b546",
   "metadata": {},
   "outputs": [],
   "source": [
    "with open('trades.csv', 'r') as file:\n",
    "    my_reader = csv.reader(file, delimiter=',')\n",
    "    \n",
    "    time = []\n",
    "    symb = []\n",
    "    side = []\n",
    "    price = []\n",
    "    quantity = []\n",
    "    count = 0\n",
    "    trading_data = []\n",
    "    for row in my_reader:\n",
    "        if count == 0:\n",
    "            count = 1\n",
    "        else:\n",
    "#             time.append(int(row[0]))\n",
    "#             symb.append(row[1])\n",
    "#             side.append(row[2])\n",
    "#             price.append(float(row[3]))\n",
    "#             quantity.append(int(row[4]))\n",
    "            \n",
    "            time = int(row[0])\n",
    "            symb = row[1]\n",
    "            side = row[2]\n",
    "            price = float(row[3])\n",
    "            quantity = int(row[4])\n",
    "\n",
    "            trading_data.append(tuple((time, symb, side, price, quantity)))\n",
    "\n",
    "\n",
    "#         TIME,SYMBOL,SIDE,PRICE,QUANTITY"
   ]
  },
  {
   "cell_type": "code",
   "execution_count": 10,
   "id": "3ff39779",
   "metadata": {},
   "outputs": [
    {
     "data": {
      "text/plain": [
       "3"
      ]
     },
     "execution_count": 10,
     "metadata": {},
     "output_type": "execute_result"
    }
   ],
   "source": [
    "len(symb)"
   ]
  },
  {
   "cell_type": "code",
   "execution_count": 14,
   "id": "da203463",
   "metadata": {},
   "outputs": [
    {
     "name": "stdout",
     "output_type": "stream",
     "text": [
      "[(1, 'KJF', 'B', 16.59, 200), (1, 'LDI', 'B', 18.67, 300), (2, 'RYE', 'B', 33.58, 200), (2, 'APZ', 'S', 13.19, 100), (3, 'APZ', 'S', 13.2, 100)]\n"
     ]
    }
   ],
   "source": [
    "print(trading_data[:5])"
   ]
  },
  {
   "cell_type": "code",
   "execution_count": null,
   "id": "aca889c5",
   "metadata": {},
   "outputs": [],
   "source": []
  },
  {
   "cell_type": "code",
   "execution_count": null,
   "id": "a923aaa3",
   "metadata": {},
   "outputs": [],
   "source": []
  },
  {
   "cell_type": "code",
   "execution_count": null,
   "id": "25660ded",
   "metadata": {},
   "outputs": [],
   "source": []
  },
  {
   "cell_type": "code",
   "execution_count": 22,
   "id": "d9610fab",
   "metadata": {},
   "outputs": [
    {
     "name": "stdout",
     "output_type": "stream",
     "text": [
      "2,4,ABC,200,2.00,B,S,10.06,10.07\n",
      "2,5,ABC,300,3.00,B,S,10.06,10.07\n",
      "5.00\n"
     ]
    }
   ],
   "source": [
    "# Function to read trades from CSV file\n",
    "def read_trades(file_path):\n",
    "    trades = []\n",
    "    with open(file_path, 'r') as file:\n",
    "        lines = file.readlines()[1:]  # Skip header\n",
    "        for line in lines:\n",
    "            time, symbol, side, price, quantity = line.strip().split(',')\n",
    "            trades.append({\n",
    "                'time': int(time),\n",
    "                'symbol': symbol,\n",
    "                'side': side,\n",
    "                'price': float(price),\n",
    "                'quantity': int(quantity)\n",
    "            })\n",
    "    return trades\n",
    "\n",
    "# Function to process trades and calculate PNL\n",
    "# Function to process trades and calculate PNL\n",
    "def process_trades(trades):\n",
    "    open_trades = {}\n",
    "    paired_trades = []\n",
    "    total_pnl = 0\n",
    "\n",
    "    for trade in trades:\n",
    "        symbol = trade['symbol']\n",
    "        quantity = trade['quantity']\n",
    "        price = trade['price']\n",
    "\n",
    "        if trade['side'] == 'B':\n",
    "            # Opening trade\n",
    "            open_trades.setdefault(symbol, []).append({'time': trade['time'], 'quantity': quantity, 'price': price})\n",
    "        elif trade['side'] == 'S':\n",
    "            # Closing trade\n",
    "            if symbol in open_trades and open_trades[symbol]:\n",
    "                open_trade = open_trades[symbol][0]\n",
    "                open_quantity = open_trade['quantity']\n",
    "                open_price = open_trade['price']\n",
    "\n",
    "                # Calculate PNL for the paired trade\n",
    "                pnl = (price - open_price) * min(open_quantity, quantity)\n",
    "                total_pnl += pnl\n",
    "\n",
    "                # Append paired trade to the result\n",
    "                paired_trades.append({\n",
    "                    'open_time': open_trade['time'],\n",
    "                    'close_time': trade['time'],\n",
    "                    'symbol': symbol,\n",
    "                    'quantity': min(open_quantity, quantity),\n",
    "                    'pnl': pnl,\n",
    "                    'open_side': 'B',\n",
    "                    'close_side': 'S',\n",
    "                    'open_price': open_price,\n",
    "                    'close_price': price\n",
    "                })\n",
    "\n",
    "                # Update open trade\n",
    "                if open_quantity > quantity:\n",
    "                    open_trade['quantity'] -= quantity\n",
    "                else:\n",
    "                    open_trades[symbol].pop(0)\n",
    "\n",
    "    return paired_trades, total_pnl\n",
    "\n",
    "# Function to print results\n",
    "def print_results(paired_trades, total_pnl):\n",
    "    for trade in paired_trades:\n",
    "        print(f\"{trade['open_time']},{trade['close_time']},{trade['symbol']},{trade['quantity']},{trade['pnl']:.2f},\"\n",
    "              f\"{trade['open_side']},{trade['close_side']},{trade['open_price']:.2f},{trade['close_price']:.2f}\")\n",
    "    print(f\"{total_pnl:.2f}\")\n",
    "\n",
    "# Main function\n",
    "def main():\n",
    "    file_path = 'demo_trades.csv'  # Replace with the actual path to your CSV file\n",
    "    trades = read_trades(file_path)\n",
    "    paired_trades, total_pnl = process_trades(trades)\n",
    "    print_results(paired_trades, total_pnl)\n",
    "\n",
    "if __name__ == \"__main__\":\n",
    "    main()\n"
   ]
  },
  {
   "cell_type": "code",
   "execution_count": null,
   "id": "815a0396",
   "metadata": {},
   "outputs": [],
   "source": []
  }
 ],
 "metadata": {
  "kernelspec": {
   "display_name": "Python 3 (ipykernel)",
   "language": "python",
   "name": "python3"
  },
  "language_info": {
   "codemirror_mode": {
    "name": "ipython",
    "version": 3
   },
   "file_extension": ".py",
   "mimetype": "text/x-python",
   "name": "python",
   "nbconvert_exporter": "python",
   "pygments_lexer": "ipython3",
   "version": "3.10.12"
  }
 },
 "nbformat": 4,
 "nbformat_minor": 5
}
