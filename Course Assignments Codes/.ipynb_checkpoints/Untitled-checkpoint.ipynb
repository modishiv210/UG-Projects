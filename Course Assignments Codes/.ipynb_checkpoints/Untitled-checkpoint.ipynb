{
 "cells": [
  {
   "cell_type": "code",
   "execution_count": 3,
   "id": "38a9d067",
   "metadata": {},
   "outputs": [
    {
     "ename": "ModuleNotFoundError",
     "evalue": "No module named 'BeautifulSoup'",
     "output_type": "error",
     "traceback": [
      "\u001b[1;31m---------------------------------------------------------------------------\u001b[0m",
      "\u001b[1;31mModuleNotFoundError\u001b[0m                       Traceback (most recent call last)",
      "Input \u001b[1;32mIn [3]\u001b[0m, in \u001b[0;36m<cell line: 1>\u001b[1;34m()\u001b[0m\n\u001b[1;32m----> 1\u001b[0m \u001b[38;5;28;01mfrom\u001b[39;00m \u001b[38;5;21;01mBeautifulSoup\u001b[39;00m \u001b[38;5;28;01mimport\u001b[39;00m BeautifulSoup\n\u001b[0;32m      3\u001b[0m url_link \u001b[38;5;241m=\u001b[39m \u001b[38;5;124m'\u001b[39m\u001b[38;5;124mhttps://distancecalculator.globefeed.com/India_Distance_Calculator.asp?state=16\u001b[39m\u001b[38;5;124m'\u001b[39m\n\u001b[0;32m      4\u001b[0m s \u001b[38;5;241m=\u001b[39m urllib2\u001b[38;5;241m.\u001b[39murlopen(url_link)\u001b[38;5;241m.\u001b[39mread()\n",
      "\u001b[1;31mModuleNotFoundError\u001b[0m: No module named 'BeautifulSoup'"
     ]
    }
   ],
   "source": [
    "from BeautifulSoup import BeautifulSoup\n",
    "\n",
    "url_link = 'https://distancecalculator.globefeed.com/India_Distance_Calculator.asp?state=16'\n",
    "s = urllib2.urlopen(url_link).read()\n",
    "soup = BeautifulSoup(s)\n",
    "\n",
    "forms = soup.findall('form')\n"
   ]
  },
  {
   "cell_type": "code",
   "execution_count": 7,
   "id": "a93f0a09",
   "metadata": {},
   "outputs": [
    {
     "name": "stdout",
     "output_type": "stream",
     "text": [
      "4\n",
      "3\n",
      "2\n",
      "1\n"
     ]
    }
   ],
   "source": [
    "for form in forms:\n",
    "    print 'form action: %s (%s)' % (form['action'], form['method'])\n",
    "    inputs = form.findAll('input')\n",
    "    for input in inputs:\n",
    "        print \"  -> %s\" % (input.attrs)"
   ]
  },
  {
   "cell_type": "code",
   "execution_count": null,
   "id": "16fa6dd4",
   "metadata": {},
   "outputs": [],
   "source": []
  }
 ],
 "metadata": {
  "kernelspec": {
   "display_name": "Python 3 (ipykernel)",
   "language": "python",
   "name": "python3"
  },
  "language_info": {
   "codemirror_mode": {
    "name": "ipython",
    "version": 3
   },
   "file_extension": ".py",
   "mimetype": "text/x-python",
   "name": "python",
   "nbconvert_exporter": "python",
   "pygments_lexer": "ipython3",
   "version": "3.9.7"
  }
 },
 "nbformat": 4,
 "nbformat_minor": 5
}
