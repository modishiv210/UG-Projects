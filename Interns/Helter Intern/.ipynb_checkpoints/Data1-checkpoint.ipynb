{
 "cells": [
  {
   "cell_type": "code",
   "execution_count": 154,
   "id": "6271c8e9",
   "metadata": {},
   "outputs": [],
   "source": [
    "import pandas as pd\n",
    "import numpy as np\n",
    "import matplotlib.pyplot as plt"
   ]
  },
  {
   "cell_type": "code",
   "execution_count": 225,
   "id": "228e7243",
   "metadata": {},
   "outputs": [
    {
     "data": {
      "text/plain": [
       "Bracelet          108\n",
       "Ring              108\n",
       "Necklace          108\n",
       "Hair band         105\n",
       "Accessory          66\n",
       "Ankle bracelet      1\n",
       "Name: SUBTYPE, dtype: int64"
      ]
     },
     "execution_count": 225,
     "metadata": {},
     "output_type": "execute_result"
    }
   ],
   "source": [
    "df = pd.read_excel('DataSet.xlsx')\n",
    "df.SUBTYPE.value_counts()"
   ]
  },
  {
   "cell_type": "code",
   "execution_count": 226,
   "id": "d6beebcf",
   "metadata": {},
   "outputs": [],
   "source": [
    "market = []\n",
    "market.append(df[df['MARKET'] == 'Japan'])\n",
    "market.append(df[df['MARKET'] == 'United Kingdom'])\n",
    "market.append(df[df['MARKET'] == 'USA'])"
   ]
  },
  {
   "cell_type": "code",
   "execution_count": 217,
   "id": "3d1ba2fe",
   "metadata": {
    "scrolled": false
   },
   "outputs": [],
   "source": [
    "categories = ['Bracelet','Ring','Necklace','Hair band','Accessory']\n",
    "SVal = []\n",
    "for m in market:\n",
    "    cat = []\n",
    "    for c in categories:\n",
    "        cat_df = m[m['SUBTYPE'] == c]\n",
    "        cat.append(cat_df.sum(axis = 0)[-1])\n",
    "    SVal.append(cat)"
   ]
  },
  {
   "cell_type": "code",
   "execution_count": 218,
   "id": "5d7737e8",
   "metadata": {},
   "outputs": [],
   "source": [
    "Valframe = pd.DataFrame(SVal).T\n",
    "Valframe.to_excel(excel_writer = \"C:/Users/Shiv/Helter Intern/chart.xlsx\")"
   ]
  },
  {
   "cell_type": "code",
   "execution_count": 219,
   "id": "af892d36",
   "metadata": {},
   "outputs": [],
   "source": [
    "#Years = []\n",
    "#Years.append(uk_df[uk_df['Year'] == 2018])\n",
    "#Years.append(uk_df[uk_df['Year'] == 2019])\n",
    "#Years.append(uk_df[uk_df['Year'] == 2020])"
   ]
  },
  {
   "cell_type": "code",
   "execution_count": 220,
   "id": "7bde40b5",
   "metadata": {},
   "outputs": [
    {
     "data": {
      "text/plain": [
       "[1,\n",
       " 2,\n",
       " 3,\n",
       " 4,\n",
       " 5,\n",
       " 6,\n",
       " 7,\n",
       " 8,\n",
       " 9,\n",
       " 10,\n",
       " 11,\n",
       " 12,\n",
       " 13,\n",
       " 14,\n",
       " 15,\n",
       " 16,\n",
       " 17,\n",
       " 18,\n",
       " 19,\n",
       " 20,\n",
       " 21,\n",
       " 22,\n",
       " 23,\n",
       " 24,\n",
       " 25,\n",
       " 26,\n",
       " 27,\n",
       " 28,\n",
       " 29,\n",
       " 30,\n",
       " 31,\n",
       " 32,\n",
       " 33,\n",
       " 34,\n",
       " 35,\n",
       " 36]"
      ]
     },
     "execution_count": 220,
     "metadata": {},
     "output_type": "execute_result"
    }
   ],
   "source": [
    "x = list(range(1,37))\n",
    "x"
   ]
  },
  {
   "cell_type": "code",
   "execution_count": 240,
   "id": "e5e734a1",
   "metadata": {},
   "outputs": [
    {
     "data": {
      "text/plain": [
       "<matplotlib.legend.Legend at 0x1ce131b04f0>"
      ]
     },
     "execution_count": 240,
     "metadata": {},
     "output_type": "execute_result"
    },
    {
     "data": {
      "image/png": "[encoded data removed]",
      "text/plain": [
       "<Figure size 1440x720 with 1 Axes>"
      ]
     },
     "metadata": {
      "needs_background": "light"
     },
     "output_type": "display_data"
    }
   ],
   "source": [
    "SValData = []\n",
    "\n",
    "for m in market:\n",
    "    SVal = []\n",
    "\n",
    "    for y in [2020]:\n",
    "        year = m[m['Year'] == y]\n",
    "        \n",
    "        for i in range(1,13):\n",
    "            month = year[year['Month'] == i]\n",
    "            SVal.append(month.sum(axis = 0)[-1])\n",
    "    \n",
    "    SValData.append(SVal)\n",
    "\n",
    "SValData = np.array(SValData)\n",
    "\n",
    "\n",
    "N = 12\n",
    "ind = np.arange(N) \n",
    "width = 0.25\n",
    "\n",
    "y_max = max(np.max(SValData[0]),np.max(SValData[1]),np.max(SValData[2]))\n",
    "#y_min = min(np.min(SValData[0]),np.min(SValData[1]),np.min(SValData[2]))\n",
    "y_min = 0\n",
    "\n",
    "plt.figure()\n",
    "plt.rcParams[\"figure.figsize\"] = (20,10)\n",
    "\n",
    "bar1 = plt.bar(ind, SValData[0], width, color = 'r', label = 'Japan')\n",
    "bar2 = plt.bar(ind+width, SValData[1], width, color='g', label = 'UK')\n",
    "bar3 = plt.bar(ind+width*2, SValData[2], width, color = 'b', label = 'USA')\n",
    "\n",
    "plt.xticks(ind, ['Jan', 'Feb', 'Mar', 'Apr', 'May', 'Jun', 'Jul', 'Aug', 'Sep', 'Oct', 'Nov', 'Dec'], rotation = 90)\n",
    "#plt.fill_betweenx(np.linspace(y_min, y_max, 100), 1, 12, color='red', alpha=.2, label='2018')     \n",
    "#plt.fill_betweenx(np.linspace(y_min, y_max, 100), 13, 24, color='orange', alpha=.2, label='2019')   \n",
    "#plt.fill_betweenx(np.linspace(y_min, y_max, 100), 25, 36, color='yellow', alpha=.2, label='2020')\n",
    "\n",
    "plt.xlabel('Month')\n",
    "plt.ylabel('Sales Value (In UKD)')\n",
    "plt.title('Sales Values in 2020')\n",
    "plt.legend(loc='upper right')"
   ]
  },
  {
   "cell_type": "code",
   "execution_count": 223,
   "id": "a2b4bfe2",
   "metadata": {
    "scrolled": true
   },
   "outputs": [],
   "source": [
    "Valframe = pd.DataFrame(SValData).T\n",
    "Valframe.to_excel(excel_writer = \"C:/Users/Shiv/Helter Intern/Value1.xlsx\")"
   ]
  },
  {
   "cell_type": "code",
   "execution_count": 148,
   "id": "96a751a4",
   "metadata": {},
   "outputs": [],
   "source": [
    "SVolData = []\n",
    "SValData = []\n",
    "\n",
    "for m in market:\n",
    "    SVal = []\n",
    "    SVol = []\n",
    "    for y in [2018,2019,2020]:\n",
    "        year = m[m['Year'] == y]\n",
    "        sum1 = 0\n",
    "        sum2 = 0\n",
    "        sum3 = 0\n",
    "        sum4 = 0\n",
    "        \n",
    "        sum11 = 0\n",
    "        sum22 = 0\n",
    "        sum33 = 0\n",
    "        sum44 = 0\n",
    "        for i in range(1,4):\n",
    "            month = year[year['Month'] == i]\n",
    "            sum1 = sum1 + month.sum(axis = 0)[-1]\n",
    "            sum11 = sum11 + month.sum(axis = 0)[-2]\n",
    "        SVal.append(sum1)\n",
    "        SVol.append(sum11)\n",
    "        for i in range(4,7):\n",
    "            month = year[year['Month'] == i]\n",
    "            sum2 = sum2 + month.sum(axis = 0)[-1]\n",
    "            sum22 = sum22 + month.sum(axis = 0)[-2]\n",
    "        SVal.append(sum2)\n",
    "        SVol.append(sum22)\n",
    "        for i in range(7,10):\n",
    "            month = year[year['Month'] == i]\n",
    "            sum3 = sum3 + month.sum(axis = 0)[-1]\n",
    "            sum33 = sum33 + month.sum(axis = 0)[-2]\n",
    "        SVal.append(sum3)\n",
    "        SVol.append(sum33)\n",
    "        for i in range(10,13):\n",
    "            month = year[year['Month'] == i]\n",
    "            sum4 = sum4 + month.sum(axis = 0)[-1]\n",
    "            sum44 = sum44 + month.sum(axis = 0)[-2]\n",
    "        SVal.append(sum4)\n",
    "        SVol.append(sum44)\n",
    "    \n",
    "    SValData.append(SVal)\n",
    "    SVolData.append(SVol)"
   ]
  },
  {
   "cell_type": "code",
   "execution_count": 150,
   "id": "0d449c06",
   "metadata": {},
   "outputs": [
    {
     "data": {
      "text/plain": [
       "[[1188, 1014, 1032, 934, 892, 1201, 1204, 788, 747, 824, 675, 536],\n",
       " [577, 664, 614, 448, 601, 567, 640, 439, 576, 883, 725, 399],\n",
       " [1003, 863, 1019, 971, 1008, 996, 901, 800, 958, 1068, 1115, 693]]"
      ]
     },
     "execution_count": 150,
     "metadata": {},
     "output_type": "execute_result"
    }
   ],
   "source": [
    "SVolData"
   ]
  },
  {
   "cell_type": "code",
   "execution_count": 149,
   "id": "78b365e2",
   "metadata": {},
   "outputs": [],
   "source": [
    "Valframe = pd.DataFrame(SValData).T\n",
    "Valframe.to_excel(excel_writer = \"C:/Users/Shiv/Helter Intern/Value.xlsx\")\n",
    "Volframe = pd.DataFrame(SVolData).T\n",
    "Volframe.to_excel(excel_writer = \"C:/Users/Shiv/Helter Intern/Volume.xlsx\")"
   ]
  },
  {
   "cell_type": "code",
   "execution_count": null,
   "id": "dd04f593",
   "metadata": {},
   "outputs": [],
   "source": []
  },
  {
   "cell_type": "code",
   "execution_count": null,
   "id": "0f14c986",
   "metadata": {},
   "outputs": [],
   "source": []
  }
 ],
 "metadata": {
  "kernelspec": {
   "display_name": "Python 3 (ipykernel)",
   "language": "python",
   "name": "python3"
  },
  "language_info": {
   "codemirror_mode": {
    "name": "ipython",
    "version": 3
   },
   "file_extension": ".py",
   "mimetype": "text/x-python",
   "name": "python",
   "nbconvert_exporter": "python",
   "pygments_lexer": "ipython3",
   "version": "3.9.7"
  }
 },
 "nbformat": 4,
 "nbformat_minor": 5
}
