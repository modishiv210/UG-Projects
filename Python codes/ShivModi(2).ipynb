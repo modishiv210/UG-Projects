{
 "cells": [
  {
   "cell_type": "code",
   "execution_count": 1,
   "metadata": {},
   "outputs": [],
   "source": [
    "import random\n",
    "import matplotlib.pyplot as plt"
   ]
  },
  {
   "cell_type": "code",
   "execution_count": 2,
   "metadata": {},
   "outputs": [],
   "source": [
    "flag = True\n",
    "rows, cols = (100, 150) \n",
    "arr = [[0 for i in range(cols)] for j in range(rows)]\n"
   ]
  },
  {
   "cell_type": "code",
   "execution_count": 3,
   "metadata": {},
   "outputs": [],
   "source": [
    "arr[50][75]=1"
   ]
  },
  {
   "cell_type": "code",
   "execution_count": 4,
   "metadata": {},
   "outputs": [],
   "source": [
    "def process(arr, cols, rows):\n",
    "    for i in range(rows):\n",
    "        for j in range(cols):\n",
    "            if arr[i][j]==1:\n",
    "                spread(arr, cols, rows, i, j)\n",
    "    return arr"
   ]
  },
  {
   "cell_type": "code",
   "execution_count": 5,
   "metadata": {},
   "outputs": [],
   "source": [
    "def swapfunc(arr, cols, rows):\n",
    "    i=random.randrange(0,rows)\n",
    "    j=random.randrange(0,cols)\n",
    "    k=random.randrange(0,rows)\n",
    "    if k==i:\n",
    "        while True:\n",
    "            l=random.randrange(0,cols)\n",
    "            if l!=j:\n",
    "                break\n",
    "    else:\n",
    "        l=random.randrange(0,cols)\n",
    "        \n",
    "    m=arr[i][j]\n",
    "    arr[i][j]=arr[k][l]\n",
    "    arr[k][l]=m\n",
    "    return arr"
   ]
  },
  {
   "cell_type": "code",
   "execution_count": 6,
   "metadata": {},
   "outputs": [],
   "source": [
    "def spread(arr, cols, rows, m, n):\n",
    "    ar1=[1,0,0,0]\n",
    "    ar2=[1,1]\n",
    "    for i in range(23):\n",
    "        ar2.append(0)\n",
    "        \n",
    "    for i in range(n-1,n+2):\n",
    "        if random.choice(ar1)==1:\n",
    "            try: arr[m-1][i]=1\n",
    "            except: continue\n",
    "        \n",
    "        if random.choice(ar1)==1:\n",
    "            try: arr[m+1][i]=1\n",
    "            except: continue\n",
    "    for i in range(1):\n",
    "        if random.choice(ar1)==1:\n",
    "            try: arr[m][n-1]=1\n",
    "            except: continue\n",
    "    \n",
    "        if random.choice(ar1)==1:\n",
    "            try: arr[m][n+1]=1   \n",
    "            except: continue\n",
    "    \n",
    "    for i in range(n-2,n+3):\n",
    "        if random.choice(ar2)==1:\n",
    "            try: arr[m-2][i]=1\n",
    "            except: continue\n",
    "                \n",
    "        if random.choice(ar2)==1:\n",
    "            try: arr[m+2][i]=1\n",
    "            except: continue\n",
    "    \n",
    "    for i in range(m-1,m+2):\n",
    "        if random.choice(ar2)==1:\n",
    "            try: arr[i][n-2]=1\n",
    "            except: continue\n",
    "                \n",
    "        if random.choice(ar2)==1:\n",
    "            try: arr[i][n+2]=1\n",
    "            except: continue\n",
    "    return arr\n"
   ]
  },
  {
   "cell_type": "code",
   "execution_count": 7,
   "metadata": {},
   "outputs": [],
   "source": [
    "#"
   ]
  },
  {
   "cell_type": "code",
   "execution_count": 8,
   "metadata": {},
   "outputs": [],
   "source": [
    "\n",
    "iteration=0\n",
    "\n",
    "x=[]\n",
    "y=[]\n",
    "z=[]\n",
    "prev_no=1\n",
    "\n",
    "while flag:\n",
    "    no=0\n",
    "    for i in range(8):\n",
    "        swapfunc(arr, cols, rows)\n",
    "    \n",
    "    process(arr, cols, rows)\n",
    "    iteration+=1\n",
    "        \n",
    "    for i in range(rows):\n",
    "        for j in range(cols):\n",
    "            if arr[i][j]==1:\n",
    "                no=no+1\n",
    "    diff=no-prev_no\n",
    "    prev_no=no\n",
    "    x.append(iteration)\n",
    "    y.append(no)\n",
    "    z.append(diff)\n",
    "    \n",
    "    for i in range(rows):\n",
    "        for j in range(cols):\n",
    "            if arr[i][j]==0:\n",
    "                flag=True\n",
    "            else: flag=False"
   ]
  },
  {
   "cell_type": "code",
   "execution_count": 9,
   "metadata": {},
   "outputs": [
    {
     "data": {
      "image/png": "[encoded data removed]",
      "text/plain": [
       "<Figure size 432x288 with 1 Axes>"
      ]
     },
     "metadata": {
      "needs_background": "light"
     },
     "output_type": "display_data"
    }
   ],
   "source": [
    "#pl0t1\n",
    "plt.plot(x,y,color='blue')\n",
    "plt.xlabel('iteration')\n",
    "plt.ylabel('no of 1s')\n",
    "plt.show()"
   ]
  },
  {
   "cell_type": "code",
   "execution_count": 10,
   "metadata": {},
   "outputs": [
    {
     "data": {
      "image/png": "[encoded data removed]",
      "text/plain": [
       "<Figure size 432x288 with 1 Axes>"
      ]
     },
     "metadata": {
      "needs_background": "light"
     },
     "output_type": "display_data"
    }
   ],
   "source": [
    "#plot2\n",
    "plt.plot(x,z,color='red')\n",
    "plt.xlabel('iteration')\n",
    "plt.ylabel('diff of num of 1s')\n",
    "plt.show()"
   ]
  },
  {
   "cell_type": "code",
   "execution_count": 11,
   "metadata": {},
   "outputs": [
    {
     "name": "stdout",
     "output_type": "stream",
     "text": [
      "2652\n"
     ]
    }
   ],
   "source": [
    "print(z[-1])"
   ]
  },
  {
   "cell_type": "code",
   "execution_count": null,
   "metadata": {},
   "outputs": [],
   "source": []
  }
 ],
 "metadata": {
  "kernelspec": {
   "display_name": "Python 3",
   "language": "python",
   "name": "python3"
  },
  "language_info": {
   "codemirror_mode": {
    "name": "ipython",
    "version": 3
   },
   "file_extension": ".py",
   "mimetype": "text/x-python",
   "name": "python",
   "nbconvert_exporter": "python",
   "pygments_lexer": "ipython3",
   "version": "3.7.6"
  }
 },
 "nbformat": 4,
 "nbformat_minor": 4
}
