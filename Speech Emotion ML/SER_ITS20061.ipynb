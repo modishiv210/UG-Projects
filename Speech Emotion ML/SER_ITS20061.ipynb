{
  "nbformat": 4,
  "nbformat_minor": 0,
  "metadata": {
    "colab": {
      "provenance": []
    },
    "kernelspec": {
      "display_name": "Python 3",
      "language": "python",
      "name": "python3"
    },
    "language_info": {
      "codemirror_mode": {
        "name": "ipython",
        "version": 3
      },
      "file_extension": ".py",
      "mimetype": "text/x-python",
      "name": "python",
      "nbconvert_exporter": "python",
      "pygments_lexer": "ipython3",
      "version": "3.7.7"
    }
  },
  "cells": [
    {
      "cell_type": "code",
      "metadata": {
        "id": "tq9YSlOfQIP0"
      },
      "source": [
        "import librosa\n",
        "import soundfile\n",
        "import os, glob, pickle\n",
        "import numpy as np\n",
        "from numpy import array\n",
        "from sklearn.model_selection import train_test_split\n",
        "from sklearn.preprocessing import LabelEncoder\n",
        "from keras.models import Sequential\n",
        "from keras.layers import Dense,Dropout\n",
        "from keras.utils import to_categorical"
      ],
      "execution_count": null,
      "outputs": []
    },
    {
      "cell_type": "code",
      "metadata": {
        "id": "KgTTW3UcQGtM",
        "colab": {
          "base_uri": "https://localhost:8080/"
        },
        "outputId": "6471b41a-cd0b-44dc-c7fc-d072e8588620"
      },
      "source": [
        "from google.colab import drive\n",
        "drive.mount('/content/drive')"
      ],
      "execution_count": null,
      "outputs": [
        {
          "output_type": "stream",
          "text": [
            "Mounted at /content/drive\n"
          ],
          "name": "stdout"
        }
      ]
    },
    {
      "cell_type": "code",
      "metadata": {
        "id": "8XU663xeQIQF"
      },
      "source": [
        "# Extract features (mfcc, chroma, mel) from a sound file\n",
        "def extract_feature(file_name, mfcc, chroma, mel, contrast, tonnetz, poly):\n",
        "    with soundfile.SoundFile(file_name) as sound_file:\n",
        "        X = sound_file.read(dtype=\"float32\")\n",
        "        sample_rate=sound_file.samplerate\n",
        "        if chroma or contrast:\n",
        "            stft=np.abs(librosa.stft(X))\n",
        "        result=np.array([])\n",
        "        if mfcc:\n",
        "            mfccs=np.mean(librosa.feature.mfcc(y=X, sr=sample_rate, n_mfcc=40).T, axis=0)\n",
        "            result=np.hstack((result, mfccs))\n",
        "        if chroma:\n",
        "            chroma=np.mean(librosa.feature.chroma_stft(S=stft, sr=sample_rate).T,axis=0)\n",
        "            result=np.hstack((result, chroma))\n",
        "        if mel:\n",
        "            mel=np.mean(librosa.feature.melspectrogram(X, sr=sample_rate).T,axis=0)\n",
        "            result=np.hstack((result, mel))\n",
        "        if contrast:\n",
        "            contrast = np.mean(librosa.feature.spectral_contrast(S=stft, sr=sample_rate).T,axis=0)\n",
        "            result = np.hstack((result, contrast))\n",
        "        if tonnetz:\n",
        "            tonnetz = np.mean(librosa.feature.tonnetz(y=librosa.effects.harmonic(X), sr=sample_rate).T,axis=0)\n",
        "            result = np.hstack((result, tonnetz))\n",
        "        if poly:\n",
        "            poly = np.mean(librosa.feature.poly_features(S=stft, sr=sample_rate).T,axis=0)\n",
        "            result = np.hstack((result, poly))\n",
        "\n",
        "    return result"
      ],
      "execution_count": null,
      "outputs": []
    },
    {
      "cell_type": "code",
      "metadata": {
        "id": "L6OVSWg7QIQQ"
      },
      "source": [
        "emotions={\n",
        "  'NEU':'neutral',\n",
        "  'HAP':'happy',\n",
        "  'SAD':'sad',\n",
        "  'ANG':'angry',\n",
        "  'FEA':'fearful',\n",
        "  'DIS':'disgust'\n",
        "}\n",
        "observed_emotions=[ 'happy', 'sad', 'angry', 'neutral' ]"
      ],
      "execution_count": null,
      "outputs": []
    },
    {
      "cell_type": "code",
      "metadata": {
        "id": "VovbS_8-QIQb"
      },
      "source": [
        "# Load the data and extract features for each sound file\n",
        "def load_data(test_size=0.25):\n",
        "    x,y=[],[]\n",
        "    for file in glob.glob(\"/content/drive/My Drive/Actor/Actor_*//*.wav\"):\n",
        "        file_name=os.path.basename(file)\n",
        "        emotion=emotions[file_name.split(\"_\")[2]]\n",
        "        if emotion not in observed_emotions:\n",
        "            continue\n",
        "        feature=extract_feature(file, mfcc=True, chroma=True, mel=True , contrast=True , tonnetz=True , poly=True)\n",
        "        x.append(feature)\n",
        "        y.append(emotion)\n",
        "    return train_test_split(np.array(x), y, test_size=test_size, random_state=9)"
      ],
      "execution_count": null,
      "outputs": []
    },
    {
      "cell_type": "code",
      "metadata": {
        "id": "CQxr9h8dQIQl",
        "jupyter": {
          "outputs_hidden": true
        }
      },
      "source": [
        "# Split the dataset\n",
        "x_train,x_test,y_train,y_test=load_data(test_size=0.25)"
      ],
      "execution_count": null,
      "outputs": []
    },
    {
      "cell_type": "markdown",
      "metadata": {
        "id": "GMTTYcngXgWB"
      },
      "source": [
        "# New section"
      ]
    },
    {
      "cell_type": "code",
      "metadata": {
        "id": "r0dUpgSnT3eE"
      },
      "source": [
        "from sklearn.preprocessing import StandardScaler\n",
        "sc = StandardScaler()\n",
        "x_train = sc.fit_transform(x_train)\n",
        "x_test = sc.transform(x_test)\n",
        "print(type(x_train))"
      ],
      "execution_count": null,
      "outputs": []
    },
    {
      "cell_type": "code",
      "metadata": {
        "id": "oppjUzZnQIQw"
      },
      "source": [
        "# Get the shape of the training and testing datasets\n",
        "print((x_train.shape[0], x_test.shape[0]))"
      ],
      "execution_count": null,
      "outputs": []
    },
    {
      "cell_type": "code",
      "metadata": {
        "id": "BRYhrVzhQIQ7"
      },
      "source": [
        "# Get the number of features extracted\n",
        "print(f'Features extracted: {x_train.shape[1]}')"
      ],
      "execution_count": null,
      "outputs": []
    },
    {
      "cell_type": "code",
      "metadata": {
        "id": "Q5fmVqKIQ7cq",
        "jupyter": {
          "outputs_hidden": true
        }
      },
      "source": [
        "values = np.array(y_train)\n",
        "print(values)\n",
        "# integer encode\n",
        "label_encoder = LabelEncoder()\n",
        "integer_encoded = label_encoder.fit_transform(values)\n",
        "a = to_categorical(integer_encoded)\n"
      ],
      "execution_count": null,
      "outputs": []
    },
    {
      "cell_type": "code",
      "metadata": {
        "jupyter": {
          "outputs_hidden": true
        },
        "id": "S-sMCAAXsEfy"
      },
      "source": [
        "values = np.array(y_test)\n",
        "print(values)\n",
        "# integer encode\n",
        "label_encoder = LabelEncoder()\n",
        "integer_encoded = label_encoder.fit_transform(values)\n",
        "b = to_categorical(integer_encoded)"
      ],
      "execution_count": null,
      "outputs": []
    },
    {
      "cell_type": "code",
      "metadata": {
        "id": "8zS4jv-rTs3E"
      },
      "source": [
        "# create the model\n",
        "new_model = Sequential()\n",
        "new_model.add(Dense(780, input_shape=(195,)))\n",
        "new_model.add(Dense(780, activation='relu'))\n",
        "new_model.add(Dropout(0.3))\n",
        "new_model.add(Dense(195, activation='relu'))\n",
        "new_model.add(Dropout(0.2))\n",
        "new_model.add(Dense(4, activation='softmax'))\n",
        "new_model.compile(loss='categorical_crossentropy', optimizer='adagrad', metrics=['accuracy'])\n",
        "print(new_model.summary())"
      ],
      "execution_count": null,
      "outputs": []
    },
    {
      "cell_type": "code",
      "metadata": {
        "id": "Yb-P-oWOQIRH"
      },
      "source": [
        "# Train the model\n",
        "new_model.fit(x_train, a, validation_data=(x_test, b), epochs=150, batch_size=10, verbose=2)"
      ],
      "execution_count": null,
      "outputs": []
    },
    {
      "cell_type": "code",
      "metadata": {
        "id": "GaHK4G6CQIRM"
      },
      "source": [
        "# Predict for the test set\n",
        "Y_newpred=new_model.predict(x_test)\n",
        "print(Y_newpred)"
      ],
      "execution_count": null,
      "outputs": []
    },
    {
      "cell_type": "code",
      "metadata": {
        "id": "6PRCSj_AsEgQ"
      },
      "source": [
        "scores = new_model.evaluate(x_test, b, verbose=0)"
      ],
      "execution_count": null,
      "outputs": []
    },
    {
      "cell_type": "code",
      "metadata": {
        "id": "7ZmM4kZP0SsM"
      },
      "source": [],
      "execution_count": null,
      "outputs": []
    },
    {
      "cell_type": "markdown",
      "source": [],
      "metadata": {
        "id": "IOfNJV_flndw"
      }
    },
    {
      "cell_type": "code",
      "metadata": {
        "id": "I7u81jXSsEgV"
      },
      "source": [
        "print('Accuracy: {}% \\n Error: {}%'.format(scores[1]*100, 100 - scores[1]*100))"
      ],
      "execution_count": null,
      "outputs": []
    },
    {
      "cell_type": "code",
      "metadata": {
        "id": "U2xqtK1Lc_Hl"
      },
      "source": [
        "res = extract_feature('Angry.wav', mfcc=True, chroma=True, mel=True , contrast=True , tonnetz=True , poly=True)\n",
        "newpred = new_model.predict(sc.transform(np.array([res])))\n",
        "\n",
        "a1=newpred[0]\n",
        "\n",
        "\n",
        "if(a1[0] > a1[1] and a1[0] > a1[2] and a1[0] > a1[3]) :\n",
        "    print('Angry')\n",
        "elif(a1[1] > a1[0] and a1[1] > a1[2] and a1[1] > a1[3]):\n",
        "    print('Happy')\n",
        "elif(a1[2] > a1[1] and a1[2] > a1[0] and a1[2] > a1[3]):\n",
        "     print('Neutral')\n",
        "elif(a1[3] > a1[1] and a1[3] > a1[2] and a1[3] > a1[1]):\n",
        "    print('Sad')"
      ],
      "execution_count": null,
      "outputs": []
    }
  ]
}