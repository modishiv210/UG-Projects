{
 "cells": [
  {
   "cell_type": "markdown",
   "id": "b45ad661",
   "metadata": {},
   "source": [
    "# 19D100011"
   ]
  },
  {
   "cell_type": "markdown",
   "id": "5e751de2",
   "metadata": {},
   "source": [
    "# Answer 1:"
   ]
  },
  {
   "cell_type": "code",
   "execution_count": 89,
   "id": "364fe24b",
   "metadata": {},
   "outputs": [],
   "source": [
    "def get_primenumbers(n):\n",
    "    if type(n) == str:                        # For string datatype\n",
    "        try:                                  # If numerical value in string form\n",
    "            a = float(n)\n",
    "            #print(n)\n",
    "            return primeList(ceil(a))\n",
    "        except ValueError:\n",
    "            return \"You have entered wrong input!\"\n",
    "    elif type(n) == int:                      # For integer datatype\n",
    "        return primeList(n)\n",
    "    elif type(n) == float:                    # For float datatype\n",
    "        return primeList(ceil(n))             # Converting float into integer\n",
    "    else:\n",
    "        return \"You have entered wrong input!\"\n",
    "\n",
    "def primeList(n):                             # Making prime list less than given integer\n",
    "    #print('n: ', n)\n",
    "    if n > 2:                                 # For all number greater than 2\n",
    "        arr = []\n",
    "        for i in range(2,n):                  # Running all number less than given number\n",
    "            #print(i)                         \n",
    "            if ifPrime(i):                    # If number is prime add in array\n",
    "                arr.append(i)\n",
    "        return arr\n",
    "    elif n <= 0:                               # If a number or string of number input is not a postive number\n",
    "        return \"You have entered wrong input!\"\n",
    "    else:\n",
    "        return []\n",
    "\n",
    "def ceil(n):                                  # Celing function\n",
    "    return int(-1 * n // 1 * -1)\n",
    "\n",
    "def ifPrime(n):                               # Check if given number is prime or not\n",
    "    for i in range(2,n):\n",
    "        if n%i == 0:\n",
    "            return False\n",
    "    return True"
   ]
  },
  {
   "cell_type": "code",
   "execution_count": 99,
   "id": "b7fe7d44",
   "metadata": {},
   "outputs": [
    {
     "name": "stdout",
     "output_type": "stream",
     "text": [
      "34.5\n",
      "[2, 3, 5, 7, 11, 13, 17, 19, 23, 29, 31]\n"
     ]
    }
   ],
   "source": [
    "n = input()\n",
    "print(get_primenumbers(n))"
   ]
  },
  {
   "cell_type": "code",
   "execution_count": null,
   "id": "f76f509c",
   "metadata": {},
   "outputs": [],
   "source": []
  },
  {
   "cell_type": "markdown",
   "id": "7e0b8c72",
   "metadata": {},
   "source": [
    "# Answer 2:"
   ]
  },
  {
   "cell_type": "code",
   "execution_count": 13,
   "id": "7dfc1393",
   "metadata": {},
   "outputs": [
    {
     "name": "stdout",
     "output_type": "stream",
     "text": [
      "[9, 8, 7, 3, 2]            [1]            []\n",
      "[9, 8, 7, 3]            [1]            [2]\n",
      "[9, 8, 7, 3]            []            [2, 1]\n",
      "[9, 8, 7]            [3]            [2, 1]\n",
      "[9, 8, 7, 1]            [3]            [2]\n",
      "[9, 8, 7, 1]            [3, 2]            []\n",
      "[9, 8, 7]            [3, 2, 1]            []\n",
      "[9, 8]            [3, 2, 1]            [7]\n",
      "[9, 8]            [3, 2]            [7, 1]\n",
      "[9, 8, 2]            [3]            [7, 1]\n",
      "[9, 8, 2, 1]            [3]            [7]\n",
      "[9, 8, 2, 1]            []            [7, 3]\n",
      "[9, 8, 2]            [1]            [7, 3]\n",
      "[9, 8]            [1]            [7, 3, 2]\n",
      "[9, 8]            []            [7, 3, 2, 1]\n",
      "[9]            [8]            [7, 3, 2, 1]\n",
      "[9, 1]            [8]            [7, 3, 2]\n",
      "[9, 1]            [8, 2]            [7, 3]\n",
      "[9]            [8, 2, 1]            [7, 3]\n",
      "[9, 3]            [8, 2, 1]            [7]\n",
      "[9, 3]            [8, 2]            [7, 1]\n",
      "[9, 3, 2]            [8]            [7, 1]\n",
      "[9, 3, 2, 1]            [8]            [7]\n",
      "[9, 3, 2, 1]            [8, 7]            []\n",
      "[9, 3, 2]            [8, 7, 1]            []\n",
      "[9, 3]            [8, 7, 1]            [2]\n",
      "[9, 3]            [8, 7]            [2, 1]\n",
      "[9]            [8, 7, 3]            [2, 1]\n",
      "[9, 1]            [8, 7, 3]            [2]\n",
      "[9, 1]            [8, 7, 3, 2]            []\n",
      "[9]            [8, 7, 3, 2, 1]            []\n",
      "[]            [8, 7, 3, 2, 1]            [9]\n",
      "[]            [8, 7, 3, 2]            [9, 1]\n",
      "[2]            [8, 7, 3]            [9, 1]\n",
      "[2, 1]            [8, 7, 3]            [9]\n",
      "[2, 1]            [8, 7]            [9, 3]\n",
      "[2]            [8, 7, 1]            [9, 3]\n",
      "[]            [8, 7, 1]            [9, 3, 2]\n",
      "[]            [8, 7]            [9, 3, 2, 1]\n",
      "[7]            [8]            [9, 3, 2, 1]\n",
      "[7, 1]            [8]            [9, 3, 2]\n",
      "[7, 1]            [8, 2]            [9, 3]\n",
      "[7]            [8, 2, 1]            [9, 3]\n",
      "[7, 3]            [8, 2, 1]            [9]\n",
      "[7, 3]            [8, 2]            [9, 1]\n",
      "[7, 3, 2]            [8]            [9, 1]\n",
      "[7, 3, 2, 1]            [8]            [9]\n",
      "[7, 3, 2, 1]            []            [9, 8]\n",
      "[7, 3, 2]            [1]            [9, 8]\n",
      "[7, 3]            [1]            [9, 8, 2]\n",
      "[7, 3]            []            [9, 8, 2, 1]\n",
      "[7]            [3]            [9, 8, 2, 1]\n",
      "[7, 1]            [3]            [9, 8, 2]\n",
      "[7, 1]            [3, 2]            [9, 8]\n",
      "[7]            [3, 2, 1]            [9, 8]\n",
      "[]            [3, 2, 1]            [9, 8, 7]\n",
      "[]            [3, 2]            [9, 8, 7, 1]\n",
      "[2]            [3]            [9, 8, 7, 1]\n",
      "[2, 1]            [3]            [9, 8, 7]\n",
      "[2, 1]            []            [9, 8, 7, 3]\n",
      "[2]            [1]            [9, 8, 7, 3]\n",
      "[]            [1]            [9, 8, 7, 3, 2]\n",
      "[]            []            [9, 8, 7, 3, 2, 1]\n"
     ]
    }
   ],
   "source": [
    "A = [9,8,7,3,2,1]\n",
    "B = []\n",
    "C = []\n",
    "\n",
    "def toh(n, initial, final, other):\n",
    "    if n > 0:\n",
    "        toh(n - 1, initial, other, final)            # Move n - 1 disks from initial rod to other rod\n",
    "        final.append(initial.pop())                  # Move the nth disk from initial rod to final rod\n",
    "        print(A, '          ', B, '          ', C)   # Display rod in current stage\n",
    "        toh(n - 1, other, final, initial)            # Move the n - 1 disks that we left on other rod onto final rod\n",
    "\n",
    "toh(6, A, C, B)    # Applying function as array A initial, C final and B other array"
   ]
  },
  {
   "cell_type": "code",
   "execution_count": null,
   "id": "8b0ab19f",
   "metadata": {},
   "outputs": [],
   "source": []
  }
 ],
 "metadata": {
  "kernelspec": {
   "display_name": "Python 3 (ipykernel)",
   "language": "python",
   "name": "python3"
  },
  "language_info": {
   "codemirror_mode": {
    "name": "ipython",
    "version": 3
   },
   "file_extension": ".py",
   "mimetype": "text/x-python",
   "name": "python",
   "nbconvert_exporter": "python",
   "pygments_lexer": "ipython3",
   "version": "3.9.7"
  }
 },
 "nbformat": 4,
 "nbformat_minor": 5
}
